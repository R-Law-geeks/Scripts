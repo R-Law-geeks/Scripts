{
 "cells": [
  {
   "cell_type": "code",
   "execution_count": 1,
   "metadata": {},
   "outputs": [
    {
     "name": "stderr",
     "output_type": "stream",
     "text": [
      "\n",
      "Attaching package: 'dplyr'\n",
      "\n",
      "The following objects are masked from 'package:stats':\n",
      "\n",
      "    filter, lag\n",
      "\n",
      "The following objects are masked from 'package:base':\n",
      "\n",
      "    intersect, setdiff, setequal, union\n",
      "\n"
     ]
    }
   ],
   "source": [
    "library(readr)\n",
    "library(dplyr)\n",
    "library(stringr)"
   ]
  },
  {
   "cell_type": "markdown",
   "metadata": {},
   "source": [
    "Importar todos los archivos en un dataframe"
   ]
  },
  {
   "cell_type": "code",
   "execution_count": 2,
   "metadata": {},
   "outputs": [],
   "source": [
    "setwd(\"C:/Users/Gabriel.Benitez/Desktop/2018\")\n",
    "temp = list.files(pattern=\"*.csv\")"
   ]
  },
  {
   "cell_type": "code",
   "execution_count": null,
   "metadata": {},
   "outputs": [],
   "source": [
    "# Leer todos los csv y juntanrlos con rbind"
   ]
  },
  {
   "cell_type": "code",
   "execution_count": 3,
   "metadata": {},
   "outputs": [],
   "source": [
    "myfiles = do.call(rbind, lapply(temp, function(x) read.csv(x, stringsAsFactors = FALSE)))"
   ]
  },
  {
   "cell_type": "code",
   "execution_count": null,
   "metadata": {},
   "outputs": [],
   "source": [
    "#Eliminar duplicados"
   ]
  },
  {
   "cell_type": "code",
   "execution_count": 4,
   "metadata": {},
   "outputs": [],
   "source": [
    "myfiles <- myfiles[!duplicated(myfiles), ]"
   ]
  },
  {
   "cell_type": "code",
   "execution_count": 7,
   "metadata": {},
   "outputs": [
    {
     "data": {
      "text/html": [
       "1849936"
      ],
      "text/latex": [
       "1849936"
      ],
      "text/markdown": [
       "1849936"
      ],
      "text/plain": [
       "[1] 1849936"
      ]
     },
     "metadata": {},
     "output_type": "display_data"
    }
   ],
   "source": [
    "#Numero de filas\n",
    "nrow(myfiles)"
   ]
  },
  {
   "cell_type": "code",
   "execution_count": 6,
   "metadata": {},
   "outputs": [],
   "source": [
    "myfiles <- readRDS(\"subvencios.rds\")"
   ]
  },
  {
   "cell_type": "markdown",
   "metadata": {},
   "source": [
    "### Top 10 Beneficiarios"
   ]
  },
  {
   "cell_type": "code",
   "execution_count": 13,
   "metadata": {},
   "outputs": [
    {
     "name": "stderr",
     "output_type": "stream",
     "text": [
      "Selecting by total\n"
     ]
    },
    {
     "name": "stdout",
     "output_type": "stream",
     "text": [
      "# A tibble: 10 x 2\n",
      "   Beneficiario                                                      total     \n",
      "   <chr>                                                             <chr>     \n",
      " 1 Q4618001D UNIVERSITAT DE VALENCIA (ESTUDI GENERAL DE VALENCIA)    254 096 7~\n",
      " 2 Q4618002B UNIVERSIDAD POLITECNICA DE VALENCIA-MINISTERIO DE UNIV~ 216 646 5~\n",
      " 3 Q0332001G UNIVERSIDAD DE ALICANTE MINISTERIO DE UNIVERSIDADES E ~ 197 651 2~\n",
      " 4 Q3018001B UNIVERSIDAD DE MURCIA                                   142 455 6~\n",
      " 5 Q7850003J CONSORCIO REGIONAL DE TRANSPORTES PÚBLICOS REGUALRES D~ 126 305 3~\n",
      " 6 P5890049I AUTORIDAD TRANSPORTE METROPÒLITANO DE BARCELONA         108 389 1~\n",
      " 7 A38666897 BINTER CANARIAS S.A.                                    104 428 1~\n",
      " 8 Q6250003H UNIVERSITAT JAUME I DE CASTELLON CAV                    \" 97 873 ~\n",
      " 9 \"Q2866001G CRUZ ROJA ESPAÑOLA \"                                   \" 86 279 ~\n",
      "10 A82018474 TELEFONICA DE ESPAÑA, S.A.                              \" 80 108 ~\n"
     ]
    }
   ],
   "source": [
    "top10_recibidos <- myfiles %>%\n",
    "  group_by(Beneficiario) %>%\n",
    "  summarise(total = sum(Importe)) %>%\n",
    "  arrange(desc(total)) %>%\n",
    "  top_n(10)\n",
    "\n",
    "\n",
    "top10_recibidos$total <- format(top10_recibidos$total, digits = 11, decimal.mark=\",\", big.mark = \" \", small.interval = 3)\n",
    "\n",
    "print(top10_recibidos)"
   ]
  },
  {
   "cell_type": "markdown",
   "metadata": {},
   "source": [
    "### Top 10 Administraciones que mas gastaron"
   ]
  },
  {
   "cell_type": "code",
   "execution_count": 11,
   "metadata": {},
   "outputs": [
    {
     "name": "stderr",
     "output_type": "stream",
     "text": [
      "Selecting by total\n"
     ]
    },
    {
     "name": "stdout",
     "output_type": "stream",
     "text": [
      "# A tibble: 10 x 2\n",
      "   Administración                total           \n",
      "   <chr>                         <chr>           \n",
      " 1 CANARIAS                      29 168 234 900  \n",
      " 2 ESTADO                        \" 4 118 917 577\"\n",
      " 3 COMUNIDAD DE MADRID           \"   727 607 906\"\n",
      " 4 ANDALUCÍA                     \"   658 624 397\"\n",
      " 5 CATALUÑA                      \"   542 090 317\"\n",
      " 6 REGIÓN DE MURCIA              \"   356 332 253\"\n",
      " 7 PRINCIPADO DE ASTURIAS        \"   356 323 491\"\n",
      " 8 DIPUTACIÓN PROV. DE BARCELONA \"   251 570 044\"\n",
      " 9 ARAGÓN                        \"   192 002 328\"\n",
      "10 LA RIOJA                      \"   173 441 556\"\n"
     ]
    }
   ],
   "source": [
    "top10_dadas <- myfiles %>%\n",
    "  group_by(Administración) %>%\n",
    "  summarise(total = sum(Importe)) %>%\n",
    "  arrange(desc(total)) %>%\n",
    "  top_n(10)\n",
    "\n",
    "top10_dadas$total <- format(top10_dadas$total, digits = 11, decimal.mark = \",\",big.mark = \" \", small.interval=3)\n",
    "\n",
    "print(top10_dadas)\n"
   ]
  },
  {
   "cell_type": "markdown",
   "metadata": {},
   "source": [
    "### Top 10 Convocatorias"
   ]
  },
  {
   "cell_type": "code",
   "execution_count": 15,
   "metadata": {},
   "outputs": [
    {
     "name": "stderr",
     "output_type": "stream",
     "text": [
      "Selecting by total\n"
     ]
    },
    {
     "name": "stdout",
     "output_type": "stream",
     "text": [
      "# A tibble: 10 x 2\n",
      "   Convocatoria                                                         total  \n",
      "   <chr>                                                                <chr>  \n",
      " 1 CONVOCATORIA DE BECAS UNIVERSITARIAS 2016/2017                       28 738~\n",
      " 2 SUBVENCIÓN CORRIENTE UNIVERSIDADES PÚBLICAS DE LA COMUNITAT VALENCI~ \"   67~\n",
      " 3 Ayudas del Centro para el Desarrollo Tecnologico Industrial para la~ \"   64~\n",
      " 4 Orden de 13 de febrero de 2017, de la Consejería de Agricultura y G~ \"   58~\n",
      " 5 Orden por la que se efectúa la convocatoria de concesión de apoyo f~ \"   40~\n",
      " 6 Subvenciones al transporte aéreo para residentes en Canarias, Balea~ \"   34~\n",
      " 7 Ayudas PAC 2017 del RÉGIMEN DE PAGO BÁSICO Campaña 2017/2018, según~ \"   23~\n",
      " 8 PAGOS DIRECTOS FEAGA 2017                                            \"   20~\n",
      " 9 RESOLUCIÓN 21 DE MARZO DE 2017 DE LA DIRECCIÓN GENERAL DE MIGRACION~ \"   19~\n",
      "10 Orden de 28 de enero de 2016, de la Consejería de Agricultura y Gan~ \"   17~\n"
     ]
    }
   ],
   "source": [
    "top10_convocatoria <- myfiles %>%\n",
    "  group_by(Convocatoria) %>%\n",
    "  summarise(total = sum(Importe)) %>%\n",
    "  arrange(desc(total)) %>%\n",
    "  top_n(10)\n",
    "\n",
    "top10_convocatoria$total <- format(top10_convocatoria$total, digits = 9, decimal.mark = \",\",big.mark = \" \", small.interval=3)\n",
    "\n",
    "print(top10_convocatoria)\n",
    "\n"
   ]
  },
  {
   "cell_type": "code",
   "execution_count": 16,
   "metadata": {},
   "outputs": [
    {
     "name": "stdout",
     "output_type": "stream",
     "text": [
      "# A tibble: 10 x 2\n",
      "   Convocatoria                                                    Importe     \n",
      "   <chr>                                                           <chr>       \n",
      " 1 CONVOCATORIA DE BECAS UNIVERSITARIAS 2016/2017                  28.738.109.~\n",
      " 2 Subvención para Universidades públicas de la Comunitat Valenci~ 671.510.100 \n",
      " 3 Desarrollo Tecnológico Industrial para la financiación de proy~ 644.779.623 \n",
      " 4 Subvenciones para la agricultura y la ganadería 2017            580.788.709 \n",
      " 5 Inversión industrial 2017                                       402.257.587 \n",
      " 6 Transporte aéreo para residentes en Canarias, Baleares, Ceuta ~ 344.064.960 \n",
      " 7 Ayudas PAC 2017 del RÉGIMEN DE PAGO BÁSICO Campaña 2017/2018,   239.786.006 \n",
      " 8 PAGOS DIRECTOS FEAGA 2017                                       209.269.280 \n",
      " 9 Atención temporal inmigrantes Melilla y Ceuta                   194.211.964 \n",
      "10 Agricultura y ganadería 2016                                    174.712.675 \n"
     ]
    }
   ],
   "source": [
    "convocatorias<-tibble::tribble(\n",
    "                                                                         ~Convocatoria,          ~Importe,\n",
    "                                      \"CONVOCATORIA DE BECAS UNIVERSITARIAS 2016/2017\",  \"28.738.109.356\",\n",
    "                   \"Subvención para Universidades públicas de la Comunitat Valenciana\",     \"671.510.100\",\n",
    "   \"Desarrollo Tecnológico Industrial para la financiación de proyectos de I+D (2017)\",     \"644.779.623\",\n",
    "                                \"Subvenciones para la agricultura y la ganadería 2017\",     \"580.788.709\",\n",
    "                                                           \"Inversión industrial 2017\",     \"402.257.587\",\n",
    "            \"Transporte aéreo para residentes en Canarias, Baleares, Ceuta y Melilla.\",     \"344.064.960\",\n",
    "                       \"Ayudas PAC 2017 del RÉGIMEN DE PAGO BÁSICO Campaña 2017/2018,\",     \"239.786.006\",\n",
    "                                                           \"PAGOS DIRECTOS FEAGA 2017\",     \"209.269.280\",\n",
    "                                       \"Atención temporal inmigrantes Melilla y Ceuta\",     \"194.211.964\",\n",
    "                                                        \"Agricultura y ganadería 2016\",     \"174.712.675\"\n",
    "  )\n",
    "print(convocatorias)"
   ]
  },
  {
   "cell_type": "markdown",
   "metadata": {},
   "source": [
    "### Que pasa en Canarias?"
   ]
  },
  {
   "cell_type": "markdown",
   "metadata": {},
   "source": [
    "Se puede filtrar solo las convocatorias en Canarias para ver cuales son las convocatorias con mayor importe"
   ]
  },
  {
   "cell_type": "code",
   "execution_count": 18,
   "metadata": {},
   "outputs": [
    {
     "name": "stderr",
     "output_type": "stream",
     "text": [
      "Selecting by total\n"
     ]
    },
    {
     "name": "stdout",
     "output_type": "stream",
     "text": [
      "# A tibble: 5 x 2\n",
      "  Convocatoria                                                       total     \n",
      "  <chr>                                                              <chr>     \n",
      "1 CONVOCATORIA DE BECAS UNIVERSITARIAS 2016/2017                     28 738 10~\n",
      "2 CONVOCATORIA ACCIONES FORMATIVAS DESEMPLEADOS FPED 2017            \"    42 6~\n",
      "3 Subvencion POSEICAN-Pesca  2015-2016  y 2017(FEMP)                 \"    16 8~\n",
      "4 ORDEN 18 DE AGOSTO DE 2016, , DE CONVOCATORIA DE PROGRAMAS Y PROY~ \"    15 3~\n",
      "5 VISOCAN ANUALIDAD 2017 DECRETO 221/2000                            \"    14 9~\n"
     ]
    }
   ],
   "source": [
    "top5_canarias <- myfiles %>%\n",
    "  filter (Administración ==\"CANARIAS\")%>%\n",
    "  group_by(Convocatoria) %>%\n",
    "  summarise(total = sum(Importe)) %>%\n",
    "  arrange(desc(total)) %>%\n",
    "  top_n(5)\n",
    "\n",
    "top5_canarias$total <- format(top5_canarias$total, digits = 9, decimal.mark = \",\",big.mark = \" \", small.interval=3)\n",
    "\n",
    "\n",
    "print(top5_canarias)\n",
    "\n"
   ]
  },
  {
   "cell_type": "markdown",
   "metadata": {},
   "source": [
    "Lo que mas gasto Canarias fue en la convocatoria de becas. Cuantas becas otorgo canarias y que monto medio?"
   ]
  },
  {
   "cell_type": "code",
   "execution_count": 27,
   "metadata": {},
   "outputs": [],
   "source": [
    "becas_canarias <- myfiles %>%\n",
    "  filter (Administración ==\"CANARIAS\" & Convocatoria == \"CONVOCATORIA DE BECAS UNIVERSITARIAS 2016/2017\")%>%\n",
    "  group_by(Beneficiario) %>%\n",
    "  summarise(total = sum(Importe)) %>%\n",
    "  arrange(desc(total))\n",
    "  \n"
   ]
  },
  {
   "cell_type": "code",
   "execution_count": 29,
   "metadata": {},
   "outputs": [
    {
     "name": "stdout",
     "output_type": "stream",
     "text": [
      "[1] \"Cantidad de becas otorgadas =  3994\"\n"
     ]
    }
   ],
   "source": [
    "print(paste(\"Cantidad de becas otorgadas = \", nrow(becas_canarias)))"
   ]
  },
  {
   "cell_type": "code",
   "execution_count": 34,
   "metadata": {},
   "outputs": [
    {
     "name": "stdout",
     "output_type": "stream",
     "text": [
      "[1] \"Promedio de Importe = 7 195 320\"\n"
     ]
    }
   ],
   "source": [
    "print(paste(\"Promedio de Importe =\",format(mean(becas_canarias$total), digits = 7, decimal.mark = \",\",big.mark = \" \", small.interval=3)))"
   ]
  }
 ],
 "metadata": {
  "kernelspec": {
   "display_name": "R",
   "language": "R",
   "name": "ir"
  },
  "language_info": {
   "codemirror_mode": "r",
   "file_extension": ".r",
   "mimetype": "text/x-r-source",
   "name": "R",
   "pygments_lexer": "r",
   "version": "3.4.3"
  }
 },
 "nbformat": 4,
 "nbformat_minor": 2
}
